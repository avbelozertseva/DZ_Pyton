{
  "nbformat": 4,
  "nbformat_minor": 0,
  "metadata": {
    "colab": {
      "name": "DZ4.ipynb",
      "provenance": [],
      "authorship_tag": "ABX9TyNKwaCuO0U6gifMsg4o4Ayk",
      "include_colab_link": true
    },
    "kernelspec": {
      "name": "python3",
      "display_name": "Python 3"
    },
    "language_info": {
      "name": "python"
    }
  },
  "cells": [
    {
      "cell_type": "markdown",
      "metadata": {
        "id": "view-in-github",
        "colab_type": "text"
      },
      "source": [
        "<a href=\"https://colab.research.google.com/github/avbelozertseva/DZ_Python/blob/lesson-4/DZ4.ipynb\" target=\"_parent\"><img src=\"https://colab.research.google.com/assets/colab-badge.svg\" alt=\"Open In Colab\"/></a>"
      ]
    },
    {
      "cell_type": "markdown",
      "metadata": {
        "id": "YmDknmCNfrLa"
      },
      "source": [
        "1. Реализовать скрипт, в котором должна быть предусмотрена функция расчета заработной платы сотрудника.\n",
        "В расчете необходимо использовать формулу: (выработка в часах * ставка в час) + премия.\n",
        "Для выполнения расчета для конкретных значений необходимо запускать скрипт с параметрами."
      ]
    },
    {
      "cell_type": "code",
      "metadata": {
        "id": "GZCYnbqwfu3e"
      },
      "source": [
        "def wage (emp_hour, emp_rate, emp_prem): # функция расчета з/п сотрудника\n",
        "    rez = (1 + (emp_prem/100)) * (emp_rate * emp_hour) # выработка в часах * ставка в час + процент премии*выработка в часах * ставка в час\n",
        "    return rez\n",
        "\n",
        "from sys import argv\n",
        "\n",
        "try: #проверяем, все ли параметры переданы\n",
        "    script_name, emp_name, emp_hour, emp_rate, emp_prem = argv\n",
        "    print(f'Заработная плата за месяц (сотрудник {emp_name}):')\n",
        "    print(f'{wage(int(emp_hour), float(emp_rate), int(emp_prem))} руб.')\n",
        "except ValueError: #если введены не все параметры\n",
        "    print('Для корректной работы необходимо ввести 5 параметров: имя скрипта, фамилию сотрудника, '\n",
        "          'выработка в часах, ставка в час, премия в %')"
      ],
      "execution_count": null,
      "outputs": []
    },
    {
      "cell_type": "markdown",
      "metadata": {
        "id": "4AH1av_pfxWo"
      },
      "source": [
        "2. Представлен список чисел. Необходимо вывести элементы исходного списка,\n",
        "значения которых больше предыдущего элемента.\n",
        "Подсказка: элементы, удовлетворяющие условию, оформить в виде списка.\n",
        "Для формирования списка использовать генератор.\n",
        "Пример исходного списка: [300, 2, 12, 44, 1, 1, 4, 10, 7, 1, 78, 123, 55].\n",
        "Результат: [12, 44, 4, 10, 78, 123]."
      ]
    },
    {
      "cell_type": "code",
      "metadata": {
        "colab": {
          "base_uri": "https://localhost:8080/"
        },
        "id": "0Jpkf88Mfzsz",
        "outputId": "e4ea9af2-2fd4-45cd-91bd-d9b2a9432c22"
      },
      "source": [
        "import random\n",
        "from itertools import count\n",
        "list_first = [] #обозначаем список\n",
        "\n",
        "len = random.randint(5,15) #генерим случайную длину списка\n",
        "for el in count(1):\n",
        "    if el > len:\n",
        "        break\n",
        "    else:\n",
        "        list_first.append(random.randint(1, 150)) #формируем произвольный список\n",
        "\n",
        "print(f'Наш первый случайный список: {list_first}')\n",
        "\n",
        "list_second = [el for j, el in enumerate(list_first) if list_first[j] > list_first[j-1] and j!=0] #не берем в счет 0-й элемент списка, т.к. его не с чем сравнивать\n",
        "print(f'Список, сгенерированный из первого: {list_second}')"
      ],
      "execution_count": null,
      "outputs": [
        {
          "output_type": "stream",
          "name": "stdout",
          "text": [
            "Наш первый случайный список: [21, 91, 94, 100, 69, 61, 95, 54, 39, 5, 136, 32]\n",
            "Список, сгенерированный из первого: [91, 94, 100, 95, 136]\n"
          ]
        }
      ]
    },
    {
      "cell_type": "markdown",
      "metadata": {
        "id": "f87tJYbPf-nv"
      },
      "source": [
        "3. Для чисел в пределах от 20 до 240 найти числа, кратные 20 или 21. Необходимо решить задание в одну строку.\n",
        "Подсказка: использовать функцию range() и генератор."
      ]
    },
    {
      "cell_type": "code",
      "metadata": {
        "id": "FmYSCtDggAsi"
      },
      "source": [
        "print(f'Числа от 20 до 240 кратные 20: {[el for el in range(20,241) if el % 20 == 0]}')\n",
        "print(f'Числа от 20 до 240 кратные 21: {[el for el in range(20,241) if el % 21 == 0]}')"
      ],
      "execution_count": null,
      "outputs": []
    },
    {
      "cell_type": "markdown",
      "metadata": {
        "id": "iCWRxX5QgCbI"
      },
      "source": [
        "4. Представлен список чисел.\n",
        "Определить элементы списка, не имеющие повторений.\n",
        "Сформировать итоговый массив чисел, соответствующих требованию.\n",
        "Элементы вывести в порядке их следования в исходном списке.\n",
        "Для выполнения задания обязательно использовать генератор.\n",
        "Пример исходного списка: [2, 2, 2, 7, 23, 1, 44, 44, 3, 2, 10, 7, 4, 11].\n",
        "Результат: [23, 1, 3, 10, 4, 11]"
      ]
    },
    {
      "cell_type": "code",
      "metadata": {
        "id": "JdPO1Rg5gEqU"
      },
      "source": [
        "my_list = [2, 2, 2, 7, 23, 1, 44, 44, 3, 2, 10, 7, 4, 11]\n",
        "my_new_list = [el for el in my_list if my_list.count(el) == 1]\n",
        "print(my_new_list)"
      ],
      "execution_count": null,
      "outputs": []
    },
    {
      "cell_type": "markdown",
      "metadata": {
        "id": "kYoR-U9OgMZn"
      },
      "source": [
        "5. Реализовать формирование списка, используя функцию range() и возможности генератора.\n",
        "В список должны войти четные числа от 100 до 1000 (включая границы).\n",
        "Необходимо получить результат вычисления произведения всех элементов списка.\n",
        "Подсказка: использовать функцию reduce()."
      ]
    },
    {
      "cell_type": "code",
      "metadata": {
        "id": "6hvbuXdfgM_s"
      },
      "source": [
        "from functools import reduce\n",
        "\n",
        "def func_mnozh(arg1,arg2):\n",
        "    return arg1*arg2\n",
        "print('Если перемножить между собой все четные числа от 100 до 1000, то получится:')\n",
        "print(reduce(func_mnozh, [el for el in range(100,1001) if el % 2 == 0]))"
      ],
      "execution_count": null,
      "outputs": []
    },
    {
      "cell_type": "markdown",
      "metadata": {
        "id": "oLbaTTIogPEo"
      },
      "source": [
        "6. Реализовать два небольших скрипта:\n",
        "а) итератор, генерирующий целые числа, начиная с указанного,\n",
        "б) итератор, повторяющий элементы некоторого списка, определенного заранее.\n",
        "Подсказка: использовать функцию count() и cycle() модуля itertools.\n",
        "Обратите внимание, что создаваемый цикл не должен быть бесконечным.\n",
        "Необходимо предусмотреть условие его завершения.\n",
        "Например, в первом задании выводим целые числа, начиная с 3, а при достижении числа 10 завершаем цикл.\n",
        "Во втором также необходимо предусмотреть условие, при котором повторение элементов списка будет прекращено."
      ]
    },
    {
      "cell_type": "code",
      "metadata": {
        "id": "CUvaL66mgRX8"
      },
      "source": [
        "from itertools import count, cycle\n",
        "print('Генерируем целые числа, начиная с 5. Закончим на 17.')\n",
        "for el in count(5):\n",
        "    if el > 17:\n",
        "        break\n",
        "    else:\n",
        "        print(el)\n",
        "\n",
        "list_it = [1,2,3,3,2,1]\n",
        "print(f'Наш список: {list_it}')\n",
        "print('Повторяем его элементы 15 раз:')\n",
        "c = 0\n",
        "for elem in cycle(list_it):\n",
        "    if c > 14:\n",
        "        break\n",
        "    else:\n",
        "        print(elem)\n",
        "        c += 1"
      ],
      "execution_count": null,
      "outputs": []
    },
    {
      "cell_type": "markdown",
      "metadata": {
        "id": "glhkccB7gWnu"
      },
      "source": [
        "7. Реализовать генератор с помощью функции с ключевым словом yield,\n",
        "создающим очередное значение. При вызове функции должен создаваться объект-генератор.\n",
        "Функция должна вызываться следующим образом: for el in fact(n).\n",
        "Функция отвечает за получение факториала числа, а в цикле необходимо выводить только первые n чисел,\n",
        "начиная с 1! и до n!.\n",
        "Подсказка: факториал числа n — произведение чисел от 1 до n.\n",
        "Например, факториал четырёх 4! = 1 * 2 * 3 * 4 = 24."
      ]
    },
    {
      "cell_type": "code",
      "metadata": {
        "id": "SHJ6UwuQgY7V",
        "colab": {
          "base_uri": "https://localhost:8080/"
        },
        "outputId": "6f4b3470-223f-4c22-e982-90dd3b260e65"
      },
      "source": [
        "from math import factorial\n",
        "from itertools import count\n",
        "def factor():\n",
        "    global element\n",
        "    for element in count(1):\n",
        "        yield factorial(element)\n",
        "print('Факториалы чисел от 1 до 8:')\n",
        "for el_ in factor():\n",
        "    if element > 8:\n",
        "        break\n",
        "    else:\n",
        "        print(f'{element}! = {el_}')       "
      ],
      "execution_count": 5,
      "outputs": [
        {
          "output_type": "stream",
          "name": "stdout",
          "text": [
            "Факториалы чисел от 1 до 8:\n",
            "1! = 1\n",
            "2! = 2\n",
            "3! = 6\n",
            "4! = 24\n",
            "5! = 120\n",
            "6! = 720\n",
            "7! = 5040\n",
            "8! = 40320\n"
          ]
        }
      ]
    }
  ]
}