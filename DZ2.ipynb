{
  "nbformat": 4,
  "nbformat_minor": 0,
  "metadata": {
    "colab": {
      "name": "DZ2.ipynb",
      "provenance": [],
      "collapsed_sections": [],
      "authorship_tag": "ABX9TyPhFepgSTKrLix5eqvf5n4T",
      "include_colab_link": true
    },
    "kernelspec": {
      "name": "python3",
      "display_name": "Python 3"
    },
    "language_info": {
      "name": "python"
    }
  },
  "cells": [
    {
      "cell_type": "markdown",
      "metadata": {
        "id": "view-in-github",
        "colab_type": "text"
      },
      "source": [
        "<a href=\"https://colab.research.google.com/github/avbelozertseva/DZ_Pyton/blob/lesson-2/DZ2.ipynb\" target=\"_parent\"><img src=\"https://colab.research.google.com/assets/colab-badge.svg\" alt=\"Open In Colab\"/></a>"
      ]
    },
    {
      "cell_type": "markdown",
      "metadata": {
        "id": "wSCFUBOXB0uw"
      },
      "source": [
        "1. Создать список и заполнить его элементами различных типов данных. Реализовать скрипт проверки типа данных каждого элемента. Использовать функцию type() для проверки типа. Элементы списка можно не запрашивать у пользователя, а указать явно, в программе."
      ]
    },
    {
      "cell_type": "code",
      "metadata": {
        "id": "oAAIusbEB1eX"
      },
      "source": [
        "list_first = ['Текст', 1, 3==3, 1.5, [7,5,8]]\n",
        "print(list_first)\n",
        "for el in list_first:\n",
        "    print(type(el))"
      ],
      "execution_count": null,
      "outputs": []
    },
    {
      "cell_type": "markdown",
      "metadata": {
        "id": "CdVefzK7B9I9"
      },
      "source": [
        "2. Для списка реализовать обмен значений соседних элементов, т.е. Значениями обмениваются элементы с индексами 0 и 1, 2 и 3 и т.д. При нечетном количестве элементов последний сохранить на своем месте. Для заполнения списка элементов необходимо использовать функцию input().\n"
      ]
    },
    {
      "cell_type": "code",
      "metadata": {
        "id": "MUVarby3KQtE"
      },
      "source": [
        "print('Давай создадим список!')\n",
        "len_list_second = int(input('Сколько в нем будет пунктов? - '))\n",
        "list_second = []\n",
        "while len(list_second) < len_list_second:\n",
        "    list_second.append(input('Введи значение списка: '))\n",
        "print('Вот что получилось:')\n",
        "print(list_second)\n",
        "print('А теперь меняем местами пункты четные с нечетными друг за другом')\n",
        "i=1\n",
        "while i<len(list_second):\n",
        "    list_second[i-1], list_second[i] = list_second[i], list_second[i-1]\n",
        "    i += 2\n",
        "print (list_second)"
      ],
      "execution_count": null,
      "outputs": []
    },
    {
      "cell_type": "markdown",
      "metadata": {
        "id": "d3NVcoG6KmlG"
      },
      "source": [
        "3. Пользователь вводит месяц в виде целого числа от 1 до 12. Сообщить к какому времени года относится месяц (зима, весна, лето, осень). Напишите решения через list и через dict."
      ]
    },
    {
      "cell_type": "code",
      "metadata": {
        "id": "2tlaTeIrWoQV"
      },
      "source": [
        "list_season = ['Зима','Весна','Лето','Осень']\n",
        "dict_season = {1: 'Зима', 2: 'Зима', 3 : 'Весна', 4 : 'Весна', 5:'Весна', 6:'Лето', 7:'Лето', 8:'Лето', 9:'Осень', 10:'Осень', 11:'Осень', 12:'Зима'}\n",
        "month_num = int(input('Введи номер месяца: '))\n",
        "if month_num > 12:\n",
        "    print('Попробуй еще раз. В году 12 месяцев!')\n",
        "else:\n",
        "    #при помощи словаря:\n",
        "    print(dict_season.get(month_num))\n",
        "    #при помощи списка:\n",
        "    if month_num == 12 or month_num == 1 or month_num == 2:\n",
        "        print(list_season[0])\n",
        "    elif month_num == 3 or month_num == 4 or month_num == 5:\n",
        "        print(list_season[1])\n",
        "    elif month_num == 6 or month_num == 7 or month_num == 8:\n",
        "        print(list_season[2])\n",
        "    elif month_num == 9 or month_num == 10 or month_num == 11:\n",
        "        print(list_season[3])"
      ],
      "execution_count": null,
      "outputs": []
    },
    {
      "cell_type": "markdown",
      "metadata": {
        "id": "e3fILqNGfahI"
      },
      "source": [
        "4. Пользователь вводит строку из нескольких слов, разделённых пробелами. Вывести каждое слово с новой строки. Строки необходимо пронумеровать. Если в слово длинное, выводить только первые 10 букв в слове."
      ]
    },
    {
      "cell_type": "code",
      "metadata": {
        "id": "nX25N3lefwcj"
      },
      "source": [
        "str_four = input('Введи несколько слов с пробелами: ')\n",
        "for pos, el in enumerate(str_four.split(), 1):\n",
        "    print(pos, el[:10:])"
      ],
      "execution_count": null,
      "outputs": []
    },
    {
      "cell_type": "markdown",
      "metadata": {
        "id": "guC9SE3LznFv"
      },
      "source": [
        "5. Реализовать структуру «Рейтинг», представляющую собой не возрастающий набор натуральных чисел. У пользователя необходимо запрашивать новый элемент рейтинга. Если в рейтинге существуют элементы с одинаковыми значениями, то новый элемент с тем же значением должен разместиться после них.\n",
        "Подсказка. Например, набор натуральных чисел: 7, 5, 3, 3, 2.\n",
        "Пользователь ввел число 3. Результат: 7, 5, 3, 3, 3, 2.\n",
        "Пользователь ввел число 8. Результат: 8, 7, 5, 3, 3, 2.\n",
        "Пользователь ввел число 1. Результат: 7, 5, 3, 3, 2, 1.\n",
        "Набор натуральных чисел можно задать непосредственно в коде, например, my_list = [7, 5, 3, 3, 2]."
      ]
    },
    {
      "cell_type": "code",
      "metadata": {
        "id": "u-shVwMzzoYk"
      },
      "source": [
        "list_five = [9, 8, 6, 6, 3, 1]\n",
        "print(f'Наш рейтинг: {list_five}')\n",
        "el_five = int(input('Введи цифру рейтинга от 1 до 9: '))\n",
        "if el_five < 1 or el_five > 9:\n",
        "    print('Это число не входит в запрашиваемый диапазон... Вернись и повтори еще раз.')\n",
        "else:\n",
        "    i = 0\n",
        "    while i < len(list_five):\n",
        "        if el_five > list_five[i] and i == 0:\n",
        "            list_five.insert(i, el_five)\n",
        "            i += 2\n",
        "        elif el_five < list_five[i] and el_five > list_five[i+1]:\n",
        "            list_five.insert(i+1, el_five)\n",
        "            i += 2\n",
        "        elif el_five == list_five[i]:\n",
        "            list_five.insert(i+list_five.count(list_five[i]), el_five)\n",
        "            i = i + list_five.count(list_five[i])+1\n",
        "        else:\n",
        "            i+=1\n",
        "print(list_five)\n"
      ],
      "execution_count": null,
      "outputs": []
    },
    {
      "cell_type": "markdown",
      "metadata": {
        "id": "B3rad6UCtD_1"
      },
      "source": [
        "6. * Реализовать структуру данных «Товары». Она должна представлять собой список кортежей. Каждый кортеж хранит информацию об отдельном товаре. В кортеже должно быть два элемента — номер товара и словарь с параметрами (характеристиками товара: название, цена, количество, единица измерения). Структуру нужно сформировать программно, т.е. запрашивать все данные у пользователя.\n",
        "Пример готовой структуры:\n",
        "[\n",
        "(1, {“название”: “компьютер”, “цена”: 20000, “количество”: 5, “eд”: “шт.”}),\n",
        "(2, {“название”: “принтер”, “цена”: 6000, “количество”: 2, “eд”: “шт.”}), \n",
        "(3, {“название”: “сканер”, “цена”: 2000, “количество”: 7, “eд”: “шт.”})\n",
        "]\n",
        "Необходимо собрать аналитику о товарах. Реализовать словарь, в котором каждый ключ — характеристика товара, например название, а значение — список значений-характеристик, например список названий товаров.\n",
        "Пример:\n",
        "{\n",
        "“название”: [“компьютер”, “принтер”, “сканер”],\n",
        "“цена”: [20000, 6000, 2000],\n",
        "“количество”: [5, 2, 7],\n",
        "“ед”: [“шт.”]\n",
        "}"
      ]
    },
    {
      "cell_type": "code",
      "metadata": {
        "id": "fWjPKcf4tLOG"
      },
      "source": [
        "prod_list=[]\n",
        "print('Предлагаю тебе завести номенклатуру товаров твоего магазина: ')\n",
        "print()\n",
        "j = 1\n",
        "assort = []\n",
        "ans = 1\n",
        "name = 'название'\n",
        "price = 'цена'\n",
        "num = 'количество'\n",
        "ediz = 'единица'\n",
        "analisys = {name:[], price:[], num:[], ediz:[]}\n",
        "while ans == 1:\n",
        "    prod_list.append({name: input('Название товара: '),\n",
        "                      price: float(input('Цена: ')),\n",
        "                      num: int(input('Количество: ')),\n",
        "                      ediz: input('Единица измерения: ')})\n",
        "    assort.append((j, prod_list[j-1]))\n",
        "    for u in prod_list[j-1].keys():\n",
        "        analisys[u].append(prod_list[j-1][u])\n",
        "    j += 1\n",
        "    ans = int(input('Желаешь завести еще карточку товара? (1 - Да, 2- Нет): '))\n",
        "    print()\n",
        "print('Структура данных о товарах:')\n",
        "print('-' * 125)\n",
        "for asel in assort:\n",
        "    print(asel)\n",
        "print()\n",
        "print('Аналитика о товарах:')\n",
        "for key in analisys.keys():\n",
        "    print('-' * 125)\n",
        "    print(f'{key}: {analisys.get(key)}')"
      ],
      "execution_count": null,
      "outputs": []
    }
  ]
}